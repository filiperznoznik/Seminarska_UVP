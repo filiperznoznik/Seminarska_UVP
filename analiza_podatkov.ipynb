{
 "cells": [
  {
   "cell_type": "markdown",
   "metadata": {},
   "source": [
    "# ANALIZA NAJBOLJŠIH ROCK ALBUMOV"
   ]
  },
  {
   "cell_type": "markdown",
   "metadata": {},
   "source": [
    "V tem zvezku bom analiziral podatke, ki sem jih pridobil iz spletne strani https://www.besteveralbums.com/overall.php. Pobral sem 10 000 najuspešnejših rock albumov vseh časov. Najprej moramo uvoziti pandas, da bomo lahko odprli našo csv datoteko v kateri imamo za vsak album dan naslov, izvajalca, rank na lestvici, letnico izdaje, rating na podlagi glasovanja obiskovalcev spletne strani in rank score oziroma točke. S knjižnjico matplotlib si bomo pomagali pri prikazovanju grafov."
   ]
  },
  {
   "cell_type": "code",
   "execution_count": 4,
   "metadata": {},
   "outputs": [],
   "source": [
    "import matplotlib as plt\n",
    "import pandas as pd"
   ]
  },
  {
   "cell_type": "markdown",
   "metadata": {},
   "source": [
    "Najprej si oglejmo našo csv datoteko, kjer so albumi razvrščeni glede na njihov rank na lestvici:"
   ]
  },
  {
   "cell_type": "code",
   "execution_count": 5,
   "metadata": {},
   "outputs": [],
   "source": [
    "df = pd.read_csv(\"albumi.csv\", index_col=\"rank\")"
   ]
  },
  {
   "cell_type": "code",
   "execution_count": 6,
   "metadata": {},
   "outputs": [
    {
     "data": {
      "text/html": [
       "<div>\n",
       "<style scoped>\n",
       "    .dataframe tbody tr th:only-of-type {\n",
       "        vertical-align: middle;\n",
       "    }\n",
       "\n",
       "    .dataframe tbody tr th {\n",
       "        vertical-align: top;\n",
       "    }\n",
       "\n",
       "    .dataframe thead th {\n",
       "        text-align: right;\n",
       "    }\n",
       "</style>\n",
       "<table border=\"1\" class=\"dataframe\">\n",
       "  <thead>\n",
       "    <tr style=\"text-align: right;\">\n",
       "      <th></th>\n",
       "      <th>izvajalec</th>\n",
       "      <th>naslov</th>\n",
       "      <th>letnica</th>\n",
       "      <th>rank_score</th>\n",
       "      <th>rating</th>\n",
       "    </tr>\n",
       "    <tr>\n",
       "      <th>rank</th>\n",
       "      <th></th>\n",
       "      <th></th>\n",
       "      <th></th>\n",
       "      <th></th>\n",
       "      <th></th>\n",
       "    </tr>\n",
       "  </thead>\n",
       "  <tbody>\n",
       "    <tr>\n",
       "      <th>1</th>\n",
       "      <td>Radiohead</td>\n",
       "      <td>OK Computer</td>\n",
       "      <td>1997</td>\n",
       "      <td>73032</td>\n",
       "      <td>92</td>\n",
       "    </tr>\n",
       "    <tr>\n",
       "      <th>2</th>\n",
       "      <td>Pink Floyd</td>\n",
       "      <td>The Dark Side Of The Moon</td>\n",
       "      <td>1973</td>\n",
       "      <td>68457</td>\n",
       "      <td>92</td>\n",
       "    </tr>\n",
       "    <tr>\n",
       "      <th>3</th>\n",
       "      <td>The Beatles</td>\n",
       "      <td>Abbey Road</td>\n",
       "      <td>1969</td>\n",
       "      <td>62946</td>\n",
       "      <td>92</td>\n",
       "    </tr>\n",
       "    <tr>\n",
       "      <th>4</th>\n",
       "      <td>The Beatles</td>\n",
       "      <td>Revolver</td>\n",
       "      <td>1966</td>\n",
       "      <td>54951</td>\n",
       "      <td>91</td>\n",
       "    </tr>\n",
       "    <tr>\n",
       "      <th>5</th>\n",
       "      <td>Radiohead</td>\n",
       "      <td>In Rainbows</td>\n",
       "      <td>2007</td>\n",
       "      <td>49030</td>\n",
       "      <td>90</td>\n",
       "    </tr>\n",
       "    <tr>\n",
       "      <th>...</th>\n",
       "      <td>...</td>\n",
       "      <td>...</td>\n",
       "      <td>...</td>\n",
       "      <td>...</td>\n",
       "      <td>...</td>\n",
       "    </tr>\n",
       "    <tr>\n",
       "      <th>9996</th>\n",
       "      <td>John Coltrane</td>\n",
       "      <td>Lush Life</td>\n",
       "      <td>1961</td>\n",
       "      <td>118</td>\n",
       "      <td>50</td>\n",
       "    </tr>\n",
       "    <tr>\n",
       "      <th>9997</th>\n",
       "      <td>Otis Redding / The Jimi Hendrix Experience</td>\n",
       "      <td>Historic Performances Recorded At The Monterey...</td>\n",
       "      <td>1970</td>\n",
       "      <td>118</td>\n",
       "      <td>14</td>\n",
       "    </tr>\n",
       "    <tr>\n",
       "      <th>9998</th>\n",
       "      <td>World Party</td>\n",
       "      <td>Bang!</td>\n",
       "      <td>1993</td>\n",
       "      <td>118</td>\n",
       "      <td>24</td>\n",
       "    </tr>\n",
       "    <tr>\n",
       "      <th>9999</th>\n",
       "      <td>Herbert von Karajan / Berlin Philharmonic Orch...</td>\n",
       "      <td>Beethoven: Symphony No. 9 &amp;quot;Choral&amp;quot;</td>\n",
       "      <td>1986</td>\n",
       "      <td>118</td>\n",
       "      <td>23</td>\n",
       "    </tr>\n",
       "    <tr>\n",
       "      <th>10000</th>\n",
       "      <td>Sonny Rollins</td>\n",
       "      <td>Freedom Suite</td>\n",
       "      <td>1958</td>\n",
       "      <td>118</td>\n",
       "      <td>32</td>\n",
       "    </tr>\n",
       "  </tbody>\n",
       "</table>\n",
       "<p>10000 rows × 5 columns</p>\n",
       "</div>"
      ],
      "text/plain": [
       "                                               izvajalec  \\\n",
       "rank                                                       \n",
       "1                                              Radiohead   \n",
       "2                                             Pink Floyd   \n",
       "3                                            The Beatles   \n",
       "4                                            The Beatles   \n",
       "5                                              Radiohead   \n",
       "...                                                  ...   \n",
       "9996                                       John Coltrane   \n",
       "9997          Otis Redding / The Jimi Hendrix Experience   \n",
       "9998                                         World Party   \n",
       "9999   Herbert von Karajan / Berlin Philharmonic Orch...   \n",
       "10000                                      Sonny Rollins   \n",
       "\n",
       "                                                  naslov  letnica  rank_score  \\\n",
       "rank                                                                            \n",
       "1                                            OK Computer     1997       73032   \n",
       "2                              The Dark Side Of The Moon     1973       68457   \n",
       "3                                             Abbey Road     1969       62946   \n",
       "4                                               Revolver     1966       54951   \n",
       "5                                            In Rainbows     2007       49030   \n",
       "...                                                  ...      ...         ...   \n",
       "9996                                           Lush Life     1961         118   \n",
       "9997   Historic Performances Recorded At The Monterey...     1970         118   \n",
       "9998                                               Bang!     1993         118   \n",
       "9999        Beethoven: Symphony No. 9 &quot;Choral&quot;     1986         118   \n",
       "10000                                      Freedom Suite     1958         118   \n",
       "\n",
       "       rating  \n",
       "rank           \n",
       "1          92  \n",
       "2          92  \n",
       "3          92  \n",
       "4          91  \n",
       "5          90  \n",
       "...       ...  \n",
       "9996       50  \n",
       "9997       14  \n",
       "9998       24  \n",
       "9999       23  \n",
       "10000      32  \n",
       "\n",
       "[10000 rows x 5 columns]"
      ]
     },
     "execution_count": 6,
     "metadata": {},
     "output_type": "execute_result"
    }
   ],
   "source": [
    "df"
   ]
  },
  {
   "cell_type": "markdown",
   "metadata": {},
   "source": [
    "# NAJUSPEŠNEJŠE LETO\n",
    "\n",
    "Poglejmo si povprečje rank scora skozi leta:"
   ]
  },
  {
   "cell_type": "code",
   "execution_count": 7,
   "metadata": {},
   "outputs": [],
   "source": [
    "kopija = df[[\"letnica\", \"rank_score\"]].copy()"
   ]
  },
  {
   "cell_type": "code",
   "execution_count": 24,
   "metadata": {},
   "outputs": [
    {
     "name": "stdout",
     "output_type": "stream",
     "text": [
      "Najuspešnejše leto je bilo leto 1967 s povprečjem 2675\n"
     ]
    },
    {
     "data": {
      "image/png": "[encoded data removed]",
      "text/plain": [
       "<Figure size 640x480 with 1 Axes>"
      ]
     },
     "metadata": {},
     "output_type": "display_data"
    }
   ],
   "source": [
    "leto = kopija.groupby(\"letnica\")[\"rank_score\"].mean()\n",
    "najbolse_leto = leto.idxmax()\n",
    "najboljse_povprecje = leto.max()\n",
    "leto.plot(x=leto.index, y=leto.values, marker='o')\n",
    "print(f\"Najuspešnejše leto je bilo leto {najbolse_leto} s povprečjem {round(najboljse_povprecje)}\")"
   ]
  },
  {
   "cell_type": "markdown",
   "metadata": {},
   "source": [
    "Moja hipoteza je bila, da bo najuspešnejše leto 1991, saj so bili takrat izdani albumi kot na primer Nevermind, Blood Sugar Sex Magik, Black album, itd. Primerjajmo leti in poglejmo zakaj je bilo leto 1967 tako dominantno:"
   ]
  },
  {
   "cell_type": "markdown",
   "metadata": {},
   "source": [
    "Poglejmo še graf kjer rank score za vsako leto samo seštejemo skupaj (ne vzamemo povprečja):"
   ]
  },
  {
   "cell_type": "markdown",
   "metadata": {},
   "source": [
    "Sedaj pa si poglejmo najuspešnejše izvajalce:"
   ]
  },
  {
   "cell_type": "markdown",
   "metadata": {},
   "source": [
    "Hipoteza: rating se bo po lestvici nazdol zmanjševal."
   ]
  },
  {
   "cell_type": "markdown",
   "metadata": {},
   "source": [
    "Albumi z najvišjm ratingom:"
   ]
  },
  {
   "cell_type": "markdown",
   "metadata": {},
   "source": [
    "Katerega leta je bilo izdanih največ rock albumov?"
   ]
  },
  {
   "cell_type": "markdown",
   "metadata": {},
   "source": []
  }
 ],
 "metadata": {
  "kernelspec": {
   "display_name": "venv",
   "language": "python",
   "name": "python3"
  },
  "language_info": {
   "codemirror_mode": {
    "name": "ipython",
    "version": 3
   },
   "file_extension": ".py",
   "mimetype": "text/x-python",
   "name": "python",
   "nbconvert_exporter": "python",
   "pygments_lexer": "ipython3",
   "version": "3.12.7"
  }
 },
 "nbformat": 4,
 "nbformat_minor": 2
}
